{
  "nbformat": 4,
  "nbformat_minor": 0,
  "metadata": {
    "colab": {
      "provenance": [],
      "collapsed_sections": [],
      "include_colab_link": true
    },
    "kernelspec": {
      "name": "python3",
      "display_name": "Python 3"
    },
    "language_info": {
      "name": "python"
    }
  },
  "cells": [
    {
      "cell_type": "markdown",
      "metadata": {
        "id": "view-in-github",
        "colab_type": "text"
      },
      "source": [
        "<a href=\"https://colab.research.google.com/github/PosgradoMNA/actividades-del-projecto-cad_equipo93/blob/main/Copia_de_Avance1_ProyectoFinal_Equipo93.ipynb\" target=\"_parent\"><img src=\"https://colab.research.google.com/assets/colab-badge.svg\" alt=\"Open In Colab\"/></a>"
      ]
    },
    {
      "cell_type": "markdown",
      "source": [
        "# Proyecto Final Equipo 93 - Avance 1\n",
        "\n",
        "**Integrantes:**\n",
        "* García Sabag Omar Nayib - A01793008\n",
        "* Vázquez Morales Marco Antonio - A017993704"
      ],
      "metadata": {
        "id": "TIZA8J3gLwvZ"
      }
    },
    {
      "cell_type": "markdown",
      "source": [
        "## Descripción de la base de datos"
      ],
      "metadata": {
        "id": "2XBRJVvUMjhy"
      }
    },
    {
      "cell_type": "markdown",
      "source": [
        "* **Nombre:** Bank Marketing\n",
        "* **Organización:** UCI Machine Learning Repository\n",
        "* **Enlace:** https://archive.ics.uci.edu/ml/datasets/Bank+Marketing\n",
        "* **Descripción:**\n",
        "> Los datos están relacionados con las campañas de marketing directo de una institución bancaria portuguesa. Las campañas de marketing se basaban en llamadas telefónicas. A menudo, se requería más de un contacto con el mismo cliente, para acceder a si el producto (depósito bancario a plazo) sería 'sí' o 'no' suscrito.\n",
        "* **Preguntas de investigación:**\n",
        "> \n",
        "* **Actor interesado:**\n",
        "> \n",
        "  \n",
        "\n",
        "\n",
        "\n"
      ],
      "metadata": {
        "id": "WJXgrisGMoO1"
      }
    },
    {
      "cell_type": "markdown",
      "source": [
        "# Metodología a utilizar"
      ],
      "metadata": {
        "id": "-sVg3_JWtLAr"
      }
    },
    {
      "cell_type": "markdown",
      "source": [
        "\n",
        ">Elegimos usar la metodología de CRISP_DM, la cual es muy usada para el análisis de datos.\n",
        ">Ademas es simple y con ella se puede implementar un proyecto de análisis de datos, de hecho su origen es para para la mineria de datos.\n",
        "* **Descripción de cada fase de la metodología**\n",
        ">Esta metodología consta de 6 fases: \n",
        "*   **Comprensión del negocio** \n",
        ">En esta fase se debe de conocer los objetivos del negocio y lo que el cliente desea conocer, la finalidad es hacer un plan de actividades que permita cumplir con los objetivos del negocio.  \n",
        ">\n",
        "* **Comprensión de los datos**\n",
        ">\n",
        ">Consiste en la recolección y comprensión de los datos para ver si cumplen con las necesidades del negocio.  \n",
        ">\n",
        "* **Preparación de los datos** \n",
        ">\n",
        ">Se seleccionan los datos con los que se va a construir el modelo y se preparan, esto implica la limpieza, generación de variables e incluso cambios de formatos, etc.  \n",
        ">\n",
        "* **Modelado** \n",
        ">\n",
        "Se seleccionan y determinan las técnicas apropiadas para el desarrollo del proyecto, aquí se ajustan los parametros de acuerdo a las necesidades del negocio. \n",
        ">\n",
        "* **Evalulación** \n",
        ">\n",
        ">Se evalúa el modelo construido con todos los requerimientos, el o los modelos se somenten a una revisión para garantizar su calidad, hasta esta fase podria retrocederse y volver a calibrar el modelo o simplemente desecharlo.  \n",
        ">\n",
        "* **Despliege** \n",
        ">\n",
        ">Si el modelo cumple con los requerimientos, en esta fase se procede a su implementación, se determina una estrategia de monitoreo y mantenimiento. Se redacta un informe final de resultados y experiencias adquiridas."
      ],
      "metadata": {
        "id": "Jl24N-l4sxZs"
      }
    }
  ]
}