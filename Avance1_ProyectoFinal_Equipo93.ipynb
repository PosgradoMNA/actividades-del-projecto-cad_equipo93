{
  "nbformat": 4,
  "nbformat_minor": 0,
  "metadata": {
    "colab": {
      "provenance": [],
      "authorship_tag": "ABX9TyP3476Mwt5LXVutdw55J6VK",
      "include_colab_link": true
    },
    "kernelspec": {
      "name": "python3",
      "display_name": "Python 3"
    },
    "language_info": {
      "name": "python"
    }
  },
  "cells": [
    {
      "cell_type": "markdown",
      "metadata": {
        "id": "view-in-github",
        "colab_type": "text"
      },
      "source": [
        "<a href=\"https://colab.research.google.com/github/PosgradoMNA/actividades-del-projecto-cad_equipo93/blob/main/Avance1_ProyectoFinal_Equipo93.ipynb\" target=\"_parent\"><img src=\"https://colab.research.google.com/assets/colab-badge.svg\" alt=\"Open In Colab\"/></a>"
      ]
    },
    {
      "cell_type": "markdown",
      "source": [
        "# Proyecto Final Equipo 93 - Avance 1\n",
        "\n",
        "**Integrantes:**\n",
        "* García Sabag Omar Nayib - A01793008\n",
        "* Vázquez Morales Marco Antonio - A017993704"
      ],
      "metadata": {
        "id": "TIZA8J3gLwvZ"
      }
    },
    {
      "cell_type": "markdown",
      "source": [
        "## Descripción de la base de datos"
      ],
      "metadata": {
        "id": "2XBRJVvUMjhy"
      }
    },
    {
      "cell_type": "markdown",
      "source": [
        "* **Nombre:** Bank Marketing\n",
        "* **Organización:** UCI Machine Learning Repository\n",
        "* **Enlace:** https://archive.ics.uci.edu/ml/datasets/Bank+Marketing\n",
        "* **Descripción:**\n",
        "> Los datos están relacionados con las campañas de marketing directo de una institución bancaria portuguesa. Las campañas de marketing se basaban en llamadas telefónicas. A menudo, se requería más de un contacto con el mismo cliente, para acceder a si el producto (depósito bancario a plazo) sería 'sí' o 'no' suscrito.\n",
        "* **Preguntas de investigación:**\n",
        "> \n",
        "* **Actor interesado:**\n",
        "> \n"
      ],
      "metadata": {
        "id": "WJXgrisGMoO1"
      }
    },
    {
      "cell_type": "code",
      "source": [],
      "metadata": {
        "id": "aRHO1SpuMsQx"
      },
      "execution_count": null,
      "outputs": []
    }
  ]
}